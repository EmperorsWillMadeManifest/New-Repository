{
 "cells": [
  {
   "cell_type": "markdown",
   "id": "c37a22df",
   "metadata": {},
   "source": [
    "# Data Science and Tools Ecosystem"
   ]
  },
  {
   "cell_type": "markdown",
   "id": "43267839",
   "metadata": {},
   "source": [
    "In this notebook, Data Science and Ecosystem are summarized. \n"
   ]
  },
  {
   "cell_type": "markdown",
   "id": "dd9b9a34",
   "metadata": {},
   "source": [
    "Some of the popular languages that Data Scientists use are:\n",
    "1. Python\n",
    "2. R\n",
    "3. Java"
   ]
  },
  {
   "cell_type": "markdown",
   "id": "7a2defca",
   "metadata": {},
   "source": [
    "Some of the commonly used libraries used by Data Scientists include:\n",
    "1. Pandas\n",
    "2. Matplotlib\n",
    "3. Scikit-Learn\n",
    "4. Tensorflow"
   ]
  },
  {
   "cell_type": "markdown",
   "id": "f54edda2",
   "metadata": {},
   "source": [
    "|Data Science Tools|\n",
    "|------------------|\n",
    "|Code asset management- GitHub|\n",
    "|Development evnironments- RStudio|\n",
    "|Model deployment- Tensorflow|"
   ]
  },
  {
   "cell_type": "markdown",
   "id": "414d0183",
   "metadata": {},
   "source": [
    "Below are a few examples of arithmetic expressions in Python\n",
    "1. 2+3 5\n",
    "2. 2*3 6\n",
    "3. 6/2 3"
   ]
  },
  {
   "cell_type": "markdown",
   "id": "bf560875",
   "metadata": {},
   "source": [
    "This is a simple arithmetic expression to multiply and then add integers."
   ]
  },
  {
   "cell_type": "code",
   "execution_count": 1,
   "id": "e51d5b8c",
   "metadata": {},
   "outputs": [
    {
     "data": {
      "text/plain": [
       "17"
      ]
     },
     "execution_count": 1,
     "metadata": {},
     "output_type": "execute_result"
    }
   ],
   "source": [
    "(3*4)+5\n"
   ]
  },
  {
   "cell_type": "markdown",
   "id": "c048fa0e",
   "metadata": {},
   "source": [
    "This will convert 200 minutes to hours by dividing by 60."
   ]
  },
  {
   "cell_type": "code",
   "execution_count": 2,
   "id": "05cc7c3a",
   "metadata": {},
   "outputs": [
    {
     "data": {
      "text/plain": [
       "3.3333333333333335"
      ]
     },
     "execution_count": 2,
     "metadata": {},
     "output_type": "execute_result"
    }
   ],
   "source": [
    "200/60"
   ]
  },
  {
   "cell_type": "markdown",
   "id": "73091d3f",
   "metadata": {},
   "source": [
    "**Objectives**"
   ]
  },
  {
   "cell_type": "markdown",
   "id": "9068719a",
   "metadata": {},
   "source": [
    "- Name languages used in Data Science\n",
    "- Write arithmetic expressions\n",
    "- List Data Science tools"
   ]
  },
  {
   "cell_type": "markdown",
   "id": "633c8ccb",
   "metadata": {},
   "source": [
    "## Author"
   ]
  },
  {
   "cell_type": "markdown",
   "id": "2409196b",
   "metadata": {},
   "source": [
    "Michael Harvie"
   ]
  },
  {
   "cell_type": "code",
   "execution_count": null,
   "id": "22843180",
   "metadata": {},
   "outputs": [],
   "source": []
  }
 ],
 "metadata": {
  "kernelspec": {
   "display_name": "Python 3 (ipykernel)",
   "language": "python",
   "name": "python3"
  },
  "language_info": {
   "codemirror_mode": {
    "name": "ipython",
    "version": 3
   },
   "file_extension": ".py",
   "mimetype": "text/x-python",
   "name": "python",
   "nbconvert_exporter": "python",
   "pygments_lexer": "ipython3",
   "version": "3.9.7"
  }
 },
 "nbformat": 4,
 "nbformat_minor": 5
}
